{
 "cells": [
  {
   "cell_type": "markdown",
   "metadata": {},
   "source": [
    "# Self-Driving Car Engineer Nanodegree\n",
    "\n",
    "\n",
    "## Project: **Finding Lane Lines on the Road**"
   ]
  },
  {
   "cell_type": "markdown",
   "metadata": {},
   "source": [
    "## Import Packages"
   ]
  },
  {
   "cell_type": "code",
   "execution_count": 1,
   "metadata": {
    "collapsed": true
   },
   "outputs": [],
   "source": [
    "# importing some useful packages\n",
    "import os\n",
    "import matplotlib.pyplot as plt\n",
    "import matplotlib.image as mpimg\n",
    "import numpy as np\n",
    "import cv2\n",
    "%matplotlib inline"
   ]
  },
  {
   "cell_type": "markdown",
   "metadata": {},
   "source": [
    "## Helper Functions"
   ]
  },
  {
   "cell_type": "markdown",
   "metadata": {},
   "source": [
    "Below are some helper functions:"
   ]
  },
  {
   "cell_type": "code",
   "execution_count": 13,
   "metadata": {
    "collapsed": true
   },
   "outputs": [],
   "source": [
    "def grayscale(img):\n",
    "    \"\"\"Applies the Grayscale transform\n",
    "    This will return an image with only one color channel\n",
    "    but NOTE: to see the returned image as grayscale\n",
    "    (assuming your grayscaled image is called \"gray\")\n",
    "    you should call plt.imshow(gray, cmap=\"gray\")\"\"\"\n",
    "    return cv2.cvtColor(img, cv2.COLOR_RGB2GRAY)\n",
    "    # Or use BGR2GRAY if you read an image with cv2.imread()\n",
    "    # return cv2.cvtColor(img, cv2.COLOR_BGR2GRAY)\n",
    "\n",
    "    \n",
    "def gaussian_blur(img, kernel_size):\n",
    "    \"\"\"Applies a Gaussian Noise kernel\"\"\"\n",
    "    return cv2.GaussianBlur(img, (kernel_size, kernel_size), 0)\n",
    "\n",
    "\n",
    "def canny(img, low_threshold, high_threshold):\n",
    "    \"\"\"Applies the Canny transform\"\"\"\n",
    "    return cv2.Canny(img, low_threshold, high_threshold)\n",
    "\n",
    "\n",
    "def region_of_interest(img, vertices):\n",
    "    \"\"\"\n",
    "    Applies an image mask.\n",
    "\n",
    "    Only keeps the region of the image defined by the polygon\n",
    "    formed from \"vertices\". The rest of the image is set to black.\n",
    "    \"\"\"\n",
    "    # defining a blank mask to start with\n",
    "    mask = np.zeros_like(img)\n",
    "\n",
    "    # defining a 3 channel or 1 channel color to fill the mask with depending\n",
    "    # on the input image\n",
    "    if len(img.shape) > 2:\n",
    "        channel_count = img.shape[2]  # i.e. 3 or 4 depending on your image\n",
    "        ignore_mask_color = (255,) * channel_count\n",
    "    else:\n",
    "        ignore_mask_color = 255\n",
    "\n",
    "    # filling pixels inside the polygon defined by \"vertices\" with the fill color\n",
    "    cv2.fillPoly(mask, vertices, ignore_mask_color)\n",
    "\n",
    "    # returning the image only where mask pixels are nonzero\n",
    "    masked_image = cv2.bitwise_and(img, mask)\n",
    "    return masked_image\n",
    "\n",
    "\n",
    "def draw_lines(img, lines, color=[255, 0, 0], thickness=4):\n",
    "    \"\"\"\n",
    "    the function averages/extrapolates the line segments you detect \n",
    "    to map out the full extent of the lane\n",
    "\n",
    "    The lines are first separated based on their slope. \n",
    "    If slope is greater than .3, the line segments are assigned \n",
    "    to the right line of the lane\n",
    "    if slope is smaller than -.3, the line segments are assigned \n",
    "    to the left line of the lane\n",
    "    Slope between [-.3, .3] is excluded such that almost horizontal lines \n",
    "    do not influence the result\n",
    "    Then average the position of each of the lines and extrapolate to the top \n",
    "    and bottom of the lane.\n",
    "\n",
    "    In order to average and extrapolate the line, the reverse equation \n",
    "    of the line was used: x = ay + c\n",
    "    This approach was chosen because of the known range of values y \n",
    "    y = numpy.arange(int(imshape[0] * 0.6), imshape[0]) that eventually \n",
    "    is drawn\n",
    "\n",
    "    This function draws `lines` with `color` and `thickness`.    \n",
    "    Lines are drawn on the image inplace (mutates the image).\n",
    "    the lines semi-transparent because of the combination with \n",
    "    the weighted_img() function below\n",
    "    \"\"\"\n",
    "    left_line_data = []         # data for the left line ([x,y])\n",
    "    right_line_data = []        # data for the right line ([x,y])\n",
    "\n",
    "    imshape = img.shape\n",
    "\n",
    "    top_y = int(imshape[0] * 0.6)\n",
    "\n",
    "    for line in lines:\n",
    "        for x1, y1, x2, y2 in line:\n",
    "            slope = (y2 - y1) / (x2 - x1)\n",
    "            if slope > .3:\n",
    "                right_line_data.append([x1, y1])\n",
    "                right_line_data.append([x2, y2])\n",
    "            if slope < -.3:\n",
    "                left_line_data.append([x1, y1])\n",
    "                left_line_data.append([x2, y2])\n",
    "\n",
    "    left_line_x_array = [item[0] for item in left_line_data]\n",
    "    left_line_y_array = [item[1] for item in left_line_data]\n",
    "    right_line_x_array = [item[0] for item in right_line_data]\n",
    "    right_line_y_array = [item[1] for item in right_line_data]\n",
    "    # fitting the lines with the approximation and obtaining\n",
    "    # the coefficients a and c from x = ay + c\n",
    "    left_line_coefficients = np.polyfit(left_line_y_array,\n",
    "                                        left_line_x_array, 1)\n",
    "    right_line_coefficients = np.polyfit(right_line_y_array,\n",
    "                                         right_line_x_array, 1)\n",
    "    # extrapolating the lines\n",
    "    left_line_x_values = np.polyval(left_line_coefficients, [\n",
    "        top_y, imshape[0]]).astype(int)\n",
    "    right_line_x_values = np.polyval(right_line_coefficients, [\n",
    "        top_y, imshape[0]]).astype(int)\n",
    "    # drawing the lines\n",
    "    cv2.line(img, (left_line_x_values[0], top_y),\n",
    "             (left_line_x_values[1], imshape[0]), color, thickness)\n",
    "    cv2.line(img, (right_line_x_values[0], top_y),\n",
    "             (right_line_x_values[1], imshape[0]), color, thickness)\n",
    "\n",
    "\n",
    "def hough_lines(img, rho, theta, threshold, min_line_len, max_line_gap):\n",
    "    \"\"\"\n",
    "    `img` should be the output of a Canny transform.\n",
    "\n",
    "    Returns an image with hough lines drawn.\n",
    "    \"\"\"\n",
    "    lines = cv2.HoughLinesP(img, rho, theta, threshold, np.array([]),\n",
    "                            minLineLength=min_line_len, maxLineGap=max_line_gap)\n",
    "    line_img = np.zeros((img.shape[0], img.shape[1], 3), dtype=np.uint8)\n",
    "    draw_lines(line_img, lines)\n",
    "    return line_img\n",
    "\n",
    "# Python 3 has support for cool math symbols.\n",
    "\n",
    "\n",
    "def weighted_img(img, initial_img, α=0.8, β=1.5, λ=0.):\n",
    "    \"\"\"\n",
    "    `img` is the output of the hough_lines(), an image with lines drawn on it.\n",
    "    Should be a blank image (all black) with lines drawn on it.\n",
    "\n",
    "    `initial_img` should be the image before any processing.\n",
    "\n",
    "    The result image is computed as follows:\n",
    "\n",
    "    initial_img * α + img * β + λ\n",
    "    NOTE: initial_img and img must be the same shape!\n",
    "    \"\"\"\n",
    "    return cv2.addWeighted(initial_img, α, img, β, λ)\n",
    "\n",
    "\n",
    "def process_image(image):\n",
    "    gray = grayscale(image)\n",
    "\n",
    "    blur_gray = gaussian_blur(gray, 5)\n",
    "\n",
    "    # the thresholds are chosen quite to be low in order to include lines\n",
    "    # which have low gradient, especially in the challenge.mp4\n",
    "    low_threshold = 33\n",
    "    high_threshold = 100\n",
    "    edges = canny(blur_gray, low_threshold, high_threshold)\n",
    "\n",
    "    # calculation of the shape of vertices relative to the picture size\n",
    "    imshape = image.shape\n",
    "    # top left and right corners of the region have the offset of 5% from\n",
    "    # the middle\n",
    "    x_middle = imshape[1] / 2\n",
    "    top_left_x = int(x_middle - x_middle * 0.05)\n",
    "    top_right_x = int(x_middle + x_middle * 0.05)\n",
    "    # y is between int(imshape[0] * 0.6) and imshape[0]\n",
    "    top_y = int(imshape[0] * 0.6)\n",
    "\n",
    "    vertices = np.array([[(0, imshape[0]), (top_left_x, top_y),\n",
    "                          (top_right_x, top_y), (imshape[1], imshape[0])]],\n",
    "                        dtype=np.int32)\n",
    "    masked_edges = region_of_interest(edges, vertices)\n",
    "\n",
    "    # Define the Hough transform parameters\n",
    "    # Make a blank the same size as our image to draw on\n",
    "    rho = 2                 # distance resolution in pixels of the Hough grid\n",
    "    theta = np.pi / 180       # angular resolution in radians of the Hough grid\n",
    "    # minimum number of votes (intersections in Hough grid cell)\n",
    "    threshold = 50\n",
    "    min_line_length = 40    # minimum number of pixels making up a line\n",
    "    max_line_gap = 25       # maximum gap in pixels between connectable line segments\n",
    "\n",
    "    lines = hough_lines(masked_edges, rho, theta, threshold,\n",
    "                        min_line_length, max_line_gap)\n",
    "\n",
    "    weighted_image = weighted_img(lines, image)\n",
    "\n",
    "    # uncomment the next line to save each step in separate images for finetuning parameters\n",
    "    # save_image(image, gray, blur_gray, edges, masked_edges, lines, weighted_image)\n",
    "\n",
    "    return weighted_image\n",
    "\n",
    "\n",
    "def save_image(image, gray, blur_gray, edges, masked_edges, lines,\n",
    "               weighted_image):\n",
    "    \"\"\"\n",
    "    function saves the image after each transformation step for further \n",
    "    paramenter tuning for the Canny and hough space transforms \n",
    "    used in function process_image\n",
    "    \"\"\"\n",
    "\n",
    "    global imageCounter\n",
    "\n",
    "    plt.imsave(\"test_images_output/\" +\n",
    "               str(imageCounter)imageCounter + \"_0_original.jpg\", image, format=\"jpg\")\n",
    "    plt.imsave(\"test_images_output/\" + str(imageCounter) +\n",
    "               \"_1_gray.jpg\", gray, format=\"jpg\", cmap=\"gray\")\n",
    "    plt.imsave(\"test_images_output/\" + str(imageCounter) +\n",
    "               \"_2_blur_gray.jpg\", blur_gray, format=\"jpg\", cmap=\"gray\")\n",
    "    plt.imsave(\"test_images_output/\" +\n",
    "               str(imageCounter) + \"_3_canny.jpg\", edges, format=\"jpg\")\n",
    "    plt.imsave(\"test_images_output/\" + str(imageCounter) +\n",
    "               \"_4_region.jpg\", masked_edges, format=\"jpg\")\n",
    "    plt.imsave(\"test_images_output/\" +\n",
    "               str(imageCounter) + \"_5_hough.jpg\", lines, format=\"jpg\")\n",
    "    plt.imsave(\"test_images_output/\" + str(imageCounter) +\n",
    "               \"_6_weighed_image.jpg\", weighted_image, format=\"jpg\")\n",
    "    imageCounter = imageCounter + 1"
   ]
  },
  {
   "cell_type": "markdown",
   "metadata": {},
   "source": [
    "## Test Images\n",
    "\n",
    "We build the pipeline to work on the images in the directory \"test_images\"."
   ]
  },
  {
   "cell_type": "code",
   "execution_count": 3,
   "metadata": {
    "collapsed": true
   },
   "outputs": [],
   "source": [
    "imageNames = os.listdir(\"test_images/\")"
   ]
  },
  {
   "cell_type": "markdown",
   "metadata": {},
   "source": [
    "### Build a Lane Finding Pipeline\n",
    "\n"
   ]
  },
  {
   "cell_type": "markdown",
   "metadata": {},
   "source": [
    "We build the pipeline and run the solution on all **test_images**. The pipeline draws lane lines on the **test_images**. We make copies into the **test_images_output** directory in order to use them in the writeup report.\n",
    "\n",
    "In order to save all intermediate images, uncomment the **save_image** function inside function **process_image**, and comment it before testing videos."
   ]
  },
  {
   "cell_type": "code",
   "execution_count": 14,
   "metadata": {
    "collapsed": true
   },
   "outputs": [],
   "source": [
    "# imageCounter is used in function save_image to set the file name dynamically, e.g.,\n",
    "# in order to avoid overwriting when videos are analyzed\n",
    "imageCounter = 1\n",
    "\n",
    "for imageName in imageNames:\n",
    "    image = mpimg.imread(\"test_images/\" + imageName)\n",
    "    weighted_image = process_image(image)\n",
    "    plt.imsave(\"test_images_output/\" + imageName, weighted_image, format=\"jpg\")"
   ]
  },
  {
   "cell_type": "markdown",
   "metadata": {},
   "source": [
    "<figure>\n",
    " <img src=\"test_images_output/solidWhiteCurve.jpg\" width=\"380\" alt=\"Combined Image 1\" />\n",
    " <figcaption>\n",
    " <p></p> \n",
    " <p style=\"text-align: center;\">solidWhiteCurve.jpg</p> \n",
    " </figcaption>\n",
    "</figure>\n",
    "<p></p>\n",
    "<figure>\n",
    " <img src=\"test_images_output/solidWhiteRight.jpg\" width=\"380\" alt=\"Combined Image 1\" />\n",
    " <figcaption>\n",
    " <p></p> \n",
    " <p style=\"text-align: center;\">solidWhiteRight.jpg</p> \n",
    " </figcaption>\n",
    "</figure>\n",
    "<p></p>\n",
    "<figure>\n",
    " <img src=\"test_images_output/solidYellowCurve.jpg\" width=\"380\" alt=\"Combined Image 1\" />\n",
    " <figcaption>\n",
    " <p></p> \n",
    " <p style=\"text-align: center;\">solidYellowCurve.jpg</p> \n",
    " </figcaption>\n",
    "</figure>\n",
    "<p></p>\n",
    "<figure>\n",
    " <img src=\"test_images_output/solidYellowCurve2.jpg\" width=\"380\" alt=\"Combined Image 1\" />\n",
    " <figcaption>\n",
    " <p></p> \n",
    " <p style=\"text-align: center;\">solidYellowCurve2.jpg</p> \n",
    " </figcaption>\n",
    "</figure>\n",
    "<p></p>\n",
    "<figure>\n",
    " <img src=\"test_images_output/solidYellowLeft.jpg\" width=\"380\" alt=\"Combined Image 1\" />\n",
    " <figcaption>\n",
    " <p></p> \n",
    " <p style=\"text-align: center;\">solidYellowLeft.jpg</p> \n",
    " </figcaption>\n",
    "</figure>\n",
    "<p></p>\n",
    "<figure>\n",
    " <img src=\"test_images_output/whiteCarLaneSwitch.jpg\" width=\"380\" alt=\"Combined Image 1\" />\n",
    " <figcaption>\n",
    " <p></p> \n",
    " <p style=\"text-align: center;\">whiteCarLaneSwitch.jpg</p> \n",
    " </figcaption>\n",
    "</figure>"
   ]
  },
  {
   "cell_type": "markdown",
   "metadata": {},
   "source": [
    "## Test on Videos\n",
    "\n",
    "We test the pipeline on two provided videos\n",
    "\n",
    "`solidWhiteRight.mp4`\n",
    "\n",
    "`solidYellowLeft.mp4`\n",
    "\n",
    "The new output draws a single, solid line over the left lane line and a single, solid line over the right lane line. The lines start from the bottom of the image and extend out to the top of the region of interest."
   ]
  },
  {
   "cell_type": "code",
   "execution_count": 5,
   "metadata": {},
   "outputs": [
    {
     "name": "stdout",
     "output_type": "stream",
     "text": [
      "[MoviePy] >>>> Building video test_videos_output/solidWhiteRight.mp4\n",
      "[MoviePy] Writing video test_videos_output/solidWhiteRight.mp4\n"
     ]
    },
    {
     "name": "stderr",
     "output_type": "stream",
     "text": [
      "100%|█████████▉| 221/222 [00:08<00:00, 16.13it/s]\n"
     ]
    },
    {
     "name": "stdout",
     "output_type": "stream",
     "text": [
      "[MoviePy] Done.\n",
      "[MoviePy] >>>> Video ready: test_videos_output/solidWhiteRight.mp4 \n",
      "\n",
      "CPU times: user 6.25 s, sys: 212 ms, total: 6.46 s\n",
      "Wall time: 9.84 s\n"
     ]
    }
   ],
   "source": [
    "# Import everything needed to edit/save/watch video clips\n",
    "from moviepy.editor import VideoFileClip\n",
    "from IPython.display import HTML\n",
    "\n",
    "video_name = \"solidWhiteRight.mp4\"\n",
    "white_output = 'test_videos_output/' + video_name\n",
    "## To speed up the testing process, try the pipeline on a shorter subclip of the video\n",
    "## To do so add .subclip(start_second,end_second) to the end of the line below\n",
    "## Where start_second and end_second are integer values representing the start and end of the subclip\n",
    "## Uncomment the following line for a subclip of the first 5 seconds\n",
    "##clip1 = VideoFileClip(\"test_videos/\" + video_name).subclip(0,5)\n",
    "clip1 = VideoFileClip(\"test_videos/\" + video_name)\n",
    "white_clip = clip1.fl_image(process_image) # this function expects color images!!\n",
    "%time white_clip.write_videofile(white_output, audio=False)"
   ]
  },
  {
   "cell_type": "code",
   "execution_count": 6,
   "metadata": {},
   "outputs": [
    {
     "data": {
      "text/html": [
       "\n",
       "<video width=\"960\" height=\"540\" controls>\n",
       "  <source src=\"test_videos_output/solidWhiteRight.mp4\">\n",
       "</video>\n"
      ],
      "text/plain": [
       "<IPython.core.display.HTML object>"
      ]
     },
     "execution_count": 6,
     "metadata": {},
     "output_type": "execute_result"
    }
   ],
   "source": [
    "HTML(\"\"\"\n",
    "<video width=\"960\" height=\"540\" controls>\n",
    "  <source src=\"{0}\">\n",
    "</video>\n",
    "\"\"\".format(white_output))"
   ]
  },
  {
   "cell_type": "markdown",
   "metadata": {},
   "source": [
    "The new output draws a single, solid line over the left lane line and a single, solid line over the right lane line. The lines start from the bottom of the image and extend out to the top of the region of interest."
   ]
  },
  {
   "cell_type": "code",
   "execution_count": 7,
   "metadata": {},
   "outputs": [
    {
     "name": "stdout",
     "output_type": "stream",
     "text": [
      "[MoviePy] >>>> Building video test_videos_output/solidYellowLeft.mp4\n",
      "[MoviePy] Writing video test_videos_output/solidYellowLeft.mp4\n"
     ]
    },
    {
     "name": "stderr",
     "output_type": "stream",
     "text": [
      "100%|█████████▉| 681/682 [00:29<00:00, 19.62it/s]\n"
     ]
    },
    {
     "name": "stdout",
     "output_type": "stream",
     "text": [
      "[MoviePy] Done.\n",
      "[MoviePy] >>>> Video ready: test_videos_output/solidYellowLeft.mp4 \n",
      "\n",
      "CPU times: user 20.3 s, sys: 724 ms, total: 21 s\n",
      "Wall time: 31.5 s\n"
     ]
    }
   ],
   "source": [
    "video_name = \"solidYellowLeft.mp4\"\n",
    "yellow_output = 'test_videos_output/' + video_name\n",
    "##clip1 = VideoFileClip(\"test_videos/\" + video_name).subclip(0,5)\n",
    "clip1 = VideoFileClip(\"test_videos/\" + video_name)\n",
    "yellow_clip = clip1.fl_image(process_image) # this function expects color images!!\n",
    "%time yellow_clip.write_videofile(yellow_output, audio=False)"
   ]
  },
  {
   "cell_type": "code",
   "execution_count": 8,
   "metadata": {},
   "outputs": [
    {
     "data": {
      "text/html": [
       "\n",
       "<video width=\"960\" height=\"540\" controls>\n",
       "  <source src=\"test_videos_output/solidYellowLeft.mp4\">\n",
       "</video>\n"
      ],
      "text/plain": [
       "<IPython.core.display.HTML object>"
      ]
     },
     "execution_count": 8,
     "metadata": {},
     "output_type": "execute_result"
    }
   ],
   "source": [
    "HTML(\"\"\"\n",
    "<video width=\"960\" height=\"540\" controls>\n",
    "  <source src=\"{0}\">\n",
    "</video>\n",
    "\"\"\".format(yellow_output))"
   ]
  },
  {
   "cell_type": "markdown",
   "metadata": {
    "collapsed": true
   },
   "source": [
    "## Optional Challenge\n",
    "\n",
    "We try the lane finding pipeline on the video below. It works with some restrictions."
   ]
  },
  {
   "cell_type": "code",
   "execution_count": 9,
   "metadata": {},
   "outputs": [
    {
     "name": "stdout",
     "output_type": "stream",
     "text": [
      "[MoviePy] >>>> Building video test_videos_output/challenge.mp4\n",
      "[MoviePy] Writing video test_videos_output/challenge.mp4\n"
     ]
    },
    {
     "name": "stderr",
     "output_type": "stream",
     "text": [
      "100%|██████████| 251/251 [00:18<00:00, 13.43it/s]\n"
     ]
    },
    {
     "name": "stdout",
     "output_type": "stream",
     "text": [
      "[MoviePy] Done.\n",
      "[MoviePy] >>>> Video ready: test_videos_output/challenge.mp4 \n",
      "\n",
      "CPU times: user 11.7 s, sys: 416 ms, total: 12.1 s\n",
      "Wall time: 21 s\n"
     ]
    }
   ],
   "source": [
    "video_name = \"challenge.mp4\"\n",
    "challenge_output = 'test_videos_output/' + video_name\n",
    "##clip1 = VideoFileClip(\"test_videos/\" + video_name).subclip(0,5)\n",
    "clip1 = VideoFileClip(\"test_videos/\" + video_name)\n",
    "challenge_clip = clip1.fl_image(process_image) # this function expects color images!!\n",
    "%time challenge_clip.write_videofile(challenge_output, audio=False)"
   ]
  },
  {
   "cell_type": "code",
   "execution_count": 10,
   "metadata": {},
   "outputs": [
    {
     "data": {
      "text/html": [
       "\n",
       "<video width=\"960\" height=\"540\" controls>\n",
       "  <source src=\"test_videos_output/challenge.mp4\">\n",
       "</video>\n"
      ],
      "text/plain": [
       "<IPython.core.display.HTML object>"
      ]
     },
     "execution_count": 10,
     "metadata": {},
     "output_type": "execute_result"
    }
   ],
   "source": [
    "HTML(\"\"\"\n",
    "<video width=\"960\" height=\"540\" controls>\n",
    "  <source src=\"{0}\">\n",
    "</video>\n",
    "\"\"\".format(challenge_output))"
   ]
  }
 ],
 "metadata": {
  "anaconda-cloud": {},
  "kernelspec": {
   "display_name": "Python 3",
   "language": "python",
   "name": "python3"
  },
  "language_info": {
   "codemirror_mode": {
    "name": "ipython",
    "version": 3
   },
   "file_extension": ".py",
   "mimetype": "text/x-python",
   "name": "python",
   "nbconvert_exporter": "python",
   "pygments_lexer": "ipython3",
   "version": "3.5.2"
  },
  "widgets": {
   "state": {},
   "version": "1.1.2"
  }
 },
 "nbformat": 4,
 "nbformat_minor": 1
}
